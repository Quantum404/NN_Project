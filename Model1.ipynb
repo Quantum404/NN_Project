{
 "cells": [
  {
   "cell_type": "code",
   "execution_count": 1,
   "id": "3d137d1e",
   "metadata": {},
   "outputs": [
    {
     "data": {
      "text/html": [
       "<div>\n",
       "<style scoped>\n",
       "    .dataframe tbody tr th:only-of-type {\n",
       "        vertical-align: middle;\n",
       "    }\n",
       "\n",
       "    .dataframe tbody tr th {\n",
       "        vertical-align: top;\n",
       "    }\n",
       "\n",
       "    .dataframe thead th {\n",
       "        text-align: right;\n",
       "    }\n",
       "</style>\n",
       "<table border=\"1\" class=\"dataframe\">\n",
       "  <thead>\n",
       "    <tr style=\"text-align: right;\">\n",
       "      <th></th>\n",
       "      <th>LotArea</th>\n",
       "      <th>OverallQual</th>\n",
       "      <th>OverallCond</th>\n",
       "      <th>TotalBsmtSF</th>\n",
       "      <th>FullBath</th>\n",
       "      <th>HalfBath</th>\n",
       "      <th>BedroomAbvGr</th>\n",
       "      <th>TotRmsAbvGrd</th>\n",
       "      <th>Fireplaces</th>\n",
       "      <th>GarageArea</th>\n",
       "      <th>AboveMedianPrice</th>\n",
       "    </tr>\n",
       "  </thead>\n",
       "  <tbody>\n",
       "    <tr>\n",
       "      <th>0</th>\n",
       "      <td>8450</td>\n",
       "      <td>7</td>\n",
       "      <td>5</td>\n",
       "      <td>856</td>\n",
       "      <td>2</td>\n",
       "      <td>1</td>\n",
       "      <td>3</td>\n",
       "      <td>8</td>\n",
       "      <td>0</td>\n",
       "      <td>548</td>\n",
       "      <td>1</td>\n",
       "    </tr>\n",
       "    <tr>\n",
       "      <th>1</th>\n",
       "      <td>9600</td>\n",
       "      <td>6</td>\n",
       "      <td>8</td>\n",
       "      <td>1262</td>\n",
       "      <td>2</td>\n",
       "      <td>0</td>\n",
       "      <td>3</td>\n",
       "      <td>6</td>\n",
       "      <td>1</td>\n",
       "      <td>460</td>\n",
       "      <td>1</td>\n",
       "    </tr>\n",
       "    <tr>\n",
       "      <th>2</th>\n",
       "      <td>11250</td>\n",
       "      <td>7</td>\n",
       "      <td>5</td>\n",
       "      <td>920</td>\n",
       "      <td>2</td>\n",
       "      <td>1</td>\n",
       "      <td>3</td>\n",
       "      <td>6</td>\n",
       "      <td>1</td>\n",
       "      <td>608</td>\n",
       "      <td>1</td>\n",
       "    </tr>\n",
       "    <tr>\n",
       "      <th>3</th>\n",
       "      <td>9550</td>\n",
       "      <td>7</td>\n",
       "      <td>5</td>\n",
       "      <td>756</td>\n",
       "      <td>1</td>\n",
       "      <td>0</td>\n",
       "      <td>3</td>\n",
       "      <td>7</td>\n",
       "      <td>1</td>\n",
       "      <td>642</td>\n",
       "      <td>0</td>\n",
       "    </tr>\n",
       "    <tr>\n",
       "      <th>4</th>\n",
       "      <td>14260</td>\n",
       "      <td>8</td>\n",
       "      <td>5</td>\n",
       "      <td>1145</td>\n",
       "      <td>2</td>\n",
       "      <td>1</td>\n",
       "      <td>4</td>\n",
       "      <td>9</td>\n",
       "      <td>1</td>\n",
       "      <td>836</td>\n",
       "      <td>1</td>\n",
       "    </tr>\n",
       "    <tr>\n",
       "      <th>...</th>\n",
       "      <td>...</td>\n",
       "      <td>...</td>\n",
       "      <td>...</td>\n",
       "      <td>...</td>\n",
       "      <td>...</td>\n",
       "      <td>...</td>\n",
       "      <td>...</td>\n",
       "      <td>...</td>\n",
       "      <td>...</td>\n",
       "      <td>...</td>\n",
       "      <td>...</td>\n",
       "    </tr>\n",
       "    <tr>\n",
       "      <th>1455</th>\n",
       "      <td>7917</td>\n",
       "      <td>6</td>\n",
       "      <td>5</td>\n",
       "      <td>953</td>\n",
       "      <td>2</td>\n",
       "      <td>1</td>\n",
       "      <td>3</td>\n",
       "      <td>7</td>\n",
       "      <td>1</td>\n",
       "      <td>460</td>\n",
       "      <td>1</td>\n",
       "    </tr>\n",
       "    <tr>\n",
       "      <th>1456</th>\n",
       "      <td>13175</td>\n",
       "      <td>6</td>\n",
       "      <td>6</td>\n",
       "      <td>1542</td>\n",
       "      <td>2</td>\n",
       "      <td>0</td>\n",
       "      <td>3</td>\n",
       "      <td>7</td>\n",
       "      <td>2</td>\n",
       "      <td>500</td>\n",
       "      <td>1</td>\n",
       "    </tr>\n",
       "    <tr>\n",
       "      <th>1457</th>\n",
       "      <td>9042</td>\n",
       "      <td>7</td>\n",
       "      <td>9</td>\n",
       "      <td>1152</td>\n",
       "      <td>2</td>\n",
       "      <td>0</td>\n",
       "      <td>4</td>\n",
       "      <td>9</td>\n",
       "      <td>2</td>\n",
       "      <td>252</td>\n",
       "      <td>1</td>\n",
       "    </tr>\n",
       "    <tr>\n",
       "      <th>1458</th>\n",
       "      <td>9717</td>\n",
       "      <td>5</td>\n",
       "      <td>6</td>\n",
       "      <td>1078</td>\n",
       "      <td>1</td>\n",
       "      <td>0</td>\n",
       "      <td>2</td>\n",
       "      <td>5</td>\n",
       "      <td>0</td>\n",
       "      <td>240</td>\n",
       "      <td>0</td>\n",
       "    </tr>\n",
       "    <tr>\n",
       "      <th>1459</th>\n",
       "      <td>9937</td>\n",
       "      <td>5</td>\n",
       "      <td>6</td>\n",
       "      <td>1256</td>\n",
       "      <td>1</td>\n",
       "      <td>1</td>\n",
       "      <td>3</td>\n",
       "      <td>6</td>\n",
       "      <td>0</td>\n",
       "      <td>276</td>\n",
       "      <td>0</td>\n",
       "    </tr>\n",
       "  </tbody>\n",
       "</table>\n",
       "<p>1460 rows × 11 columns</p>\n",
       "</div>"
      ],
      "text/plain": [
       "      LotArea  OverallQual  OverallCond  TotalBsmtSF  FullBath  HalfBath  \\\n",
       "0        8450            7            5          856         2         1   \n",
       "1        9600            6            8         1262         2         0   \n",
       "2       11250            7            5          920         2         1   \n",
       "3        9550            7            5          756         1         0   \n",
       "4       14260            8            5         1145         2         1   \n",
       "...       ...          ...          ...          ...       ...       ...   \n",
       "1455     7917            6            5          953         2         1   \n",
       "1456    13175            6            6         1542         2         0   \n",
       "1457     9042            7            9         1152         2         0   \n",
       "1458     9717            5            6         1078         1         0   \n",
       "1459     9937            5            6         1256         1         1   \n",
       "\n",
       "      BedroomAbvGr  TotRmsAbvGrd  Fireplaces  GarageArea  AboveMedianPrice  \n",
       "0                3             8           0         548                 1  \n",
       "1                3             6           1         460                 1  \n",
       "2                3             6           1         608                 1  \n",
       "3                3             7           1         642                 0  \n",
       "4                4             9           1         836                 1  \n",
       "...            ...           ...         ...         ...               ...  \n",
       "1455             3             7           1         460                 1  \n",
       "1456             3             7           2         500                 1  \n",
       "1457             4             9           2         252                 1  \n",
       "1458             2             5           0         240                 0  \n",
       "1459             3             6           0         276                 0  \n",
       "\n",
       "[1460 rows x 11 columns]"
      ]
     },
     "execution_count": 1,
     "metadata": {},
     "output_type": "execute_result"
    }
   ],
   "source": [
    "import pandas as pd\n",
    "df = pd.read_csv('house_price_data.csv')\n",
    "df"
   ]
  },
  {
   "cell_type": "code",
   "execution_count": 2,
   "id": "6a271599",
   "metadata": {},
   "outputs": [
    {
     "data": {
      "text/plain": [
       "array([[ 8450,     7,     5, ...,     0,   548,     1],\n",
       "       [ 9600,     6,     8, ...,     1,   460,     1],\n",
       "       [11250,     7,     5, ...,     1,   608,     1],\n",
       "       ...,\n",
       "       [ 9042,     7,     9, ...,     2,   252,     1],\n",
       "       [ 9717,     5,     6, ...,     0,   240,     0],\n",
       "       [ 9937,     5,     6, ...,     0,   276,     0]], dtype=int64)"
      ]
     },
     "execution_count": 2,
     "metadata": {},
     "output_type": "execute_result"
    }
   ],
   "source": [
    "dataset = df.values\n",
    "dataset"
   ]
  },
  {
   "cell_type": "code",
   "execution_count": 3,
   "id": "3b276939",
   "metadata": {},
   "outputs": [
    {
     "data": {
      "text/plain": [
       "array([[ 8450,     7,     5, ...,     8,     0,   548],\n",
       "       [ 9600,     6,     8, ...,     6,     1,   460],\n",
       "       [11250,     7,     5, ...,     6,     1,   608],\n",
       "       ...,\n",
       "       [ 9042,     7,     9, ...,     9,     2,   252],\n",
       "       [ 9717,     5,     6, ...,     5,     0,   240],\n",
       "       [ 9937,     5,     6, ...,     6,     0,   276]], dtype=int64)"
      ]
     },
     "execution_count": 3,
     "metadata": {},
     "output_type": "execute_result"
    }
   ],
   "source": [
    "X = dataset[:,0:10]\n",
    "Y = dataset[:,10]\n",
    "X"
   ]
  },
  {
   "cell_type": "code",
   "execution_count": 4,
   "id": "027b78b6",
   "metadata": {},
   "outputs": [
    {
     "data": {
      "text/plain": [
       "array([1, 1, 1, ..., 1, 0, 0], dtype=int64)"
      ]
     },
     "execution_count": 4,
     "metadata": {},
     "output_type": "execute_result"
    }
   ],
   "source": [
    "Y"
   ]
  },
  {
   "cell_type": "code",
   "execution_count": 5,
   "id": "e40ecf4f",
   "metadata": {},
   "outputs": [
    {
     "data": {
      "text/plain": [
       "array([[0.0334198 , 0.66666667, 0.5       , ..., 0.5       , 0.        ,\n",
       "        0.3864598 ],\n",
       "       [0.03879502, 0.55555556, 0.875     , ..., 0.33333333, 0.33333333,\n",
       "        0.32440056],\n",
       "       [0.04650728, 0.66666667, 0.5       , ..., 0.33333333, 0.33333333,\n",
       "        0.42877292],\n",
       "       ...,\n",
       "       [0.03618687, 0.66666667, 1.        , ..., 0.58333333, 0.66666667,\n",
       "        0.17771509],\n",
       "       [0.03934189, 0.44444444, 0.625     , ..., 0.25      , 0.        ,\n",
       "        0.16925247],\n",
       "       [0.04037019, 0.44444444, 0.625     , ..., 0.33333333, 0.        ,\n",
       "        0.19464034]])"
      ]
     },
     "execution_count": 5,
     "metadata": {},
     "output_type": "execute_result"
    }
   ],
   "source": [
    "from sklearn import preprocessing\n",
    "min_max_scaler = preprocessing.MinMaxScaler()\n",
    "X_scale = min_max_scaler.fit_transform(X)\n",
    "X_scale"
   ]
  },
  {
   "cell_type": "code",
   "execution_count": 6,
   "id": "140ace41",
   "metadata": {},
   "outputs": [
    {
     "name": "stdout",
     "output_type": "stream",
     "text": [
      "(1022, 10) (219, 10) (219, 10) (1022,) (219,) (219,)\n"
     ]
    }
   ],
   "source": [
    "from sklearn.model_selection import train_test_split\n",
    "#Data splitting\n",
    "X_train, X_val_and_test, Y_train, Y_val_and_test = train_test_split(X_scale, Y, test_size=0.3)\n",
    "X_val, X_test, Y_val, Y_test = train_test_split(X_val_and_test, Y_val_and_test, test_size=0.5)\n",
    "print(X_train.shape, X_val.shape, X_test.shape, Y_train.shape, Y_val.shape, Y_test.shape)"
   ]
  },
  {
   "cell_type": "code",
   "execution_count": 7,
   "id": "0f81c879",
   "metadata": {},
   "outputs": [],
   "source": [
    "from tensorflow.keras.models import Sequential"
   ]
  },
  {
   "cell_type": "code",
   "execution_count": 10,
   "id": "dc5a74e3",
   "metadata": {},
   "outputs": [],
   "source": [
    "from tensorflow.keras.models import Sequential \n",
    "from tensorflow.keras.layers import Dense "
   ]
  },
  {
   "cell_type": "code",
   "execution_count": 11,
   "id": "4eef0dd5",
   "metadata": {},
   "outputs": [
    {
     "name": "stdout",
     "output_type": "stream",
     "text": [
      "Epoch 1/100\n",
      "32/32 [==============================] - 0s 4ms/step - loss: 0.6798 - accuracy: 0.5039 - val_loss: 0.6852 - val_accuracy: 0.4384\n",
      "Epoch 2/100\n",
      "32/32 [==============================] - 0s 850us/step - loss: 0.6738 - accuracy: 0.5098 - val_loss: 0.6788 - val_accuracy: 0.4429\n",
      "Epoch 3/100\n",
      "32/32 [==============================] - 0s 717us/step - loss: 0.6683 - accuracy: 0.5157 - val_loss: 0.6727 - val_accuracy: 0.4521\n",
      "Epoch 4/100\n",
      "32/32 [==============================] - 0s 779us/step - loss: 0.6631 - accuracy: 0.5303 - val_loss: 0.6663 - val_accuracy: 0.5160\n",
      "Epoch 5/100\n",
      "32/32 [==============================] - 0s 805us/step - loss: 0.6577 - accuracy: 0.5988 - val_loss: 0.6597 - val_accuracy: 0.6347\n",
      "Epoch 6/100\n",
      "32/32 [==============================] - 0s 788us/step - loss: 0.6518 - accuracy: 0.6566 - val_loss: 0.6521 - val_accuracy: 0.7123\n",
      "Epoch 7/100\n",
      "32/32 [==============================] - 0s 809us/step - loss: 0.6451 - accuracy: 0.7162 - val_loss: 0.6441 - val_accuracy: 0.7626\n",
      "Epoch 8/100\n",
      "32/32 [==============================] - 0s 810us/step - loss: 0.6380 - accuracy: 0.7515 - val_loss: 0.6363 - val_accuracy: 0.7717\n",
      "Epoch 9/100\n",
      "32/32 [==============================] - 0s 834us/step - loss: 0.6307 - accuracy: 0.7671 - val_loss: 0.6287 - val_accuracy: 0.7763\n",
      "Epoch 10/100\n",
      "32/32 [==============================] - 0s 833us/step - loss: 0.6234 - accuracy: 0.7750 - val_loss: 0.6213 - val_accuracy: 0.7808\n",
      "Epoch 11/100\n",
      "32/32 [==============================] - 0s 940us/step - loss: 0.6161 - accuracy: 0.7779 - val_loss: 0.6133 - val_accuracy: 0.7900\n",
      "Epoch 12/100\n",
      "32/32 [==============================] - 0s 879us/step - loss: 0.6087 - accuracy: 0.7818 - val_loss: 0.6051 - val_accuracy: 0.7945\n",
      "Epoch 13/100\n",
      "32/32 [==============================] - 0s 873us/step - loss: 0.6012 - accuracy: 0.7818 - val_loss: 0.5965 - val_accuracy: 0.7991\n",
      "Epoch 14/100\n",
      "32/32 [==============================] - 0s 887us/step - loss: 0.5935 - accuracy: 0.7886 - val_loss: 0.5882 - val_accuracy: 0.7991\n",
      "Epoch 15/100\n",
      "32/32 [==============================] - 0s 937us/step - loss: 0.5857 - accuracy: 0.7945 - val_loss: 0.5789 - val_accuracy: 0.8128\n",
      "Epoch 16/100\n",
      "32/32 [==============================] - 0s 941us/step - loss: 0.5774 - accuracy: 0.7955 - val_loss: 0.5701 - val_accuracy: 0.8128\n",
      "Epoch 17/100\n",
      "32/32 [==============================] - 0s 881us/step - loss: 0.5691 - accuracy: 0.8004 - val_loss: 0.5608 - val_accuracy: 0.8174\n",
      "Epoch 18/100\n",
      "32/32 [==============================] - 0s 938us/step - loss: 0.5607 - accuracy: 0.8014 - val_loss: 0.5507 - val_accuracy: 0.8356\n",
      "Epoch 19/100\n",
      "32/32 [==============================] - 0s 910us/step - loss: 0.5521 - accuracy: 0.8131 - val_loss: 0.5407 - val_accuracy: 0.8584\n",
      "Epoch 20/100\n",
      "32/32 [==============================] - 0s 932us/step - loss: 0.5436 - accuracy: 0.8190 - val_loss: 0.5310 - val_accuracy: 0.8584\n",
      "Epoch 21/100\n",
      "32/32 [==============================] - 0s 919us/step - loss: 0.5346 - accuracy: 0.8209 - val_loss: 0.5212 - val_accuracy: 0.8584\n",
      "Epoch 22/100\n",
      "32/32 [==============================] - 0s 993us/step - loss: 0.5255 - accuracy: 0.8327 - val_loss: 0.5120 - val_accuracy: 0.8539\n",
      "Epoch 23/100\n",
      "32/32 [==============================] - 0s 969us/step - loss: 0.5168 - accuracy: 0.8268 - val_loss: 0.5013 - val_accuracy: 0.8721\n",
      "Epoch 24/100\n",
      "32/32 [==============================] - 0s 962us/step - loss: 0.5076 - accuracy: 0.8346 - val_loss: 0.4905 - val_accuracy: 0.8813\n",
      "Epoch 25/100\n",
      "32/32 [==============================] - 0s 949us/step - loss: 0.4987 - accuracy: 0.8434 - val_loss: 0.4811 - val_accuracy: 0.8676\n",
      "Epoch 26/100\n",
      "32/32 [==============================] - 0s 953us/step - loss: 0.4896 - accuracy: 0.8425 - val_loss: 0.4700 - val_accuracy: 0.8995\n",
      "Epoch 27/100\n",
      "32/32 [==============================] - 0s 972us/step - loss: 0.4811 - accuracy: 0.8503 - val_loss: 0.4614 - val_accuracy: 0.8767\n",
      "Epoch 28/100\n",
      "32/32 [==============================] - 0s 914us/step - loss: 0.4724 - accuracy: 0.8503 - val_loss: 0.4499 - val_accuracy: 0.9087\n",
      "Epoch 29/100\n",
      "32/32 [==============================] - 0s 935us/step - loss: 0.4639 - accuracy: 0.8542 - val_loss: 0.4399 - val_accuracy: 0.9041\n",
      "Epoch 30/100\n",
      "32/32 [==============================] - 0s 945us/step - loss: 0.4560 - accuracy: 0.8542 - val_loss: 0.4310 - val_accuracy: 0.9087\n",
      "Epoch 31/100\n",
      "32/32 [==============================] - 0s 978us/step - loss: 0.4473 - accuracy: 0.8591 - val_loss: 0.4214 - val_accuracy: 0.9132\n",
      "Epoch 32/100\n",
      "32/32 [==============================] - 0s 984us/step - loss: 0.4393 - accuracy: 0.8630 - val_loss: 0.4113 - val_accuracy: 0.9087\n",
      "Epoch 33/100\n",
      "32/32 [==============================] - 0s 964us/step - loss: 0.4322 - accuracy: 0.8630 - val_loss: 0.4032 - val_accuracy: 0.9041\n",
      "Epoch 34/100\n",
      "32/32 [==============================] - 0s 914us/step - loss: 0.4246 - accuracy: 0.8650 - val_loss: 0.3943 - val_accuracy: 0.9041\n",
      "Epoch 35/100\n",
      "32/32 [==============================] - 0s 900us/step - loss: 0.4174 - accuracy: 0.8689 - val_loss: 0.3862 - val_accuracy: 0.9041\n",
      "Epoch 36/100\n",
      "32/32 [==============================] - 0s 997us/step - loss: 0.4103 - accuracy: 0.8679 - val_loss: 0.3767 - val_accuracy: 0.9224\n",
      "Epoch 37/100\n",
      "32/32 [==============================] - 0s 1ms/step - loss: 0.4034 - accuracy: 0.8689 - val_loss: 0.3714 - val_accuracy: 0.9041\n",
      "Epoch 38/100\n",
      "32/32 [==============================] - 0s 907us/step - loss: 0.3975 - accuracy: 0.8689 - val_loss: 0.3609 - val_accuracy: 0.9269\n",
      "Epoch 39/100\n",
      "32/32 [==============================] - 0s 811us/step - loss: 0.3914 - accuracy: 0.8757 - val_loss: 0.3550 - val_accuracy: 0.9132\n",
      "Epoch 40/100\n",
      "32/32 [==============================] - 0s 903us/step - loss: 0.3853 - accuracy: 0.8748 - val_loss: 0.3479 - val_accuracy: 0.9178\n",
      "Epoch 41/100\n",
      "32/32 [==============================] - 0s 829us/step - loss: 0.3800 - accuracy: 0.8738 - val_loss: 0.3393 - val_accuracy: 0.9269\n",
      "Epoch 42/100\n",
      "32/32 [==============================] - 0s 717us/step - loss: 0.3750 - accuracy: 0.8777 - val_loss: 0.3352 - val_accuracy: 0.9178\n",
      "Epoch 43/100\n",
      "32/32 [==============================] - 0s 841us/step - loss: 0.3702 - accuracy: 0.8777 - val_loss: 0.3305 - val_accuracy: 0.9132\n",
      "Epoch 44/100\n",
      "32/32 [==============================] - 0s 849us/step - loss: 0.3658 - accuracy: 0.8757 - val_loss: 0.3234 - val_accuracy: 0.9178\n",
      "Epoch 45/100\n",
      "32/32 [==============================] - 0s 774us/step - loss: 0.3615 - accuracy: 0.8767 - val_loss: 0.3186 - val_accuracy: 0.9178\n",
      "Epoch 46/100\n",
      "32/32 [==============================] - 0s 816us/step - loss: 0.3573 - accuracy: 0.8767 - val_loss: 0.3135 - val_accuracy: 0.9178\n",
      "Epoch 47/100\n",
      "32/32 [==============================] - 0s 842us/step - loss: 0.3534 - accuracy: 0.8767 - val_loss: 0.3073 - val_accuracy: 0.9224\n",
      "Epoch 48/100\n",
      "32/32 [==============================] - 0s 779us/step - loss: 0.3500 - accuracy: 0.8757 - val_loss: 0.3014 - val_accuracy: 0.9269\n",
      "Epoch 49/100\n",
      "32/32 [==============================] - 0s 814us/step - loss: 0.3464 - accuracy: 0.8806 - val_loss: 0.2965 - val_accuracy: 0.9224\n",
      "Epoch 50/100\n",
      "32/32 [==============================] - 0s 758us/step - loss: 0.3429 - accuracy: 0.8787 - val_loss: 0.2917 - val_accuracy: 0.9269\n",
      "Epoch 51/100\n",
      "32/32 [==============================] - 0s 762us/step - loss: 0.3400 - accuracy: 0.8787 - val_loss: 0.2874 - val_accuracy: 0.9269\n",
      "Epoch 52/100\n",
      "32/32 [==============================] - 0s 841us/step - loss: 0.3370 - accuracy: 0.8757 - val_loss: 0.2855 - val_accuracy: 0.9224\n",
      "Epoch 53/100\n",
      "32/32 [==============================] - 0s 801us/step - loss: 0.3345 - accuracy: 0.8787 - val_loss: 0.2812 - val_accuracy: 0.9224\n",
      "Epoch 54/100\n",
      "32/32 [==============================] - 0s 783us/step - loss: 0.3318 - accuracy: 0.8787 - val_loss: 0.2767 - val_accuracy: 0.9269\n",
      "Epoch 55/100\n",
      "32/32 [==============================] - 0s 836us/step - loss: 0.3294 - accuracy: 0.8787 - val_loss: 0.2743 - val_accuracy: 0.9224\n",
      "Epoch 56/100\n",
      "32/32 [==============================] - 0s 736us/step - loss: 0.3262 - accuracy: 0.8796 - val_loss: 0.2722 - val_accuracy: 0.9224\n",
      "Epoch 57/100\n",
      "32/32 [==============================] - 0s 821us/step - loss: 0.3235 - accuracy: 0.8787 - val_loss: 0.2665 - val_accuracy: 0.9269\n"
     ]
    },
    {
     "name": "stdout",
     "output_type": "stream",
     "text": [
      "Epoch 58/100\n",
      "32/32 [==============================] - 0s 869us/step - loss: 0.3225 - accuracy: 0.8787 - val_loss: 0.2654 - val_accuracy: 0.9224\n",
      "Epoch 59/100\n",
      "32/32 [==============================] - ETA: 0s - loss: 0.1992 - accuracy: 1.00 - 0s 810us/step - loss: 0.3202 - accuracy: 0.8796 - val_loss: 0.2616 - val_accuracy: 0.9269\n",
      "Epoch 60/100\n",
      "32/32 [==============================] - 0s 801us/step - loss: 0.3182 - accuracy: 0.8796 - val_loss: 0.2603 - val_accuracy: 0.9224\n",
      "Epoch 61/100\n",
      "32/32 [==============================] - 0s 795us/step - loss: 0.3163 - accuracy: 0.8796 - val_loss: 0.2566 - val_accuracy: 0.9315\n",
      "Epoch 62/100\n",
      "32/32 [==============================] - 0s 701us/step - loss: 0.3141 - accuracy: 0.8816 - val_loss: 0.2533 - val_accuracy: 0.9269\n",
      "Epoch 63/100\n",
      "32/32 [==============================] - 0s 810us/step - loss: 0.3126 - accuracy: 0.8796 - val_loss: 0.2523 - val_accuracy: 0.9269\n",
      "Epoch 64/100\n",
      "32/32 [==============================] - 0s 780us/step - loss: 0.3110 - accuracy: 0.8816 - val_loss: 0.2495 - val_accuracy: 0.9269\n",
      "Epoch 65/100\n",
      "32/32 [==============================] - 0s 784us/step - loss: 0.3089 - accuracy: 0.8816 - val_loss: 0.2480 - val_accuracy: 0.9269\n",
      "Epoch 66/100\n",
      "32/32 [==============================] - 0s 833us/step - loss: 0.3077 - accuracy: 0.8816 - val_loss: 0.2447 - val_accuracy: 0.9269\n",
      "Epoch 67/100\n",
      "32/32 [==============================] - 0s 748us/step - loss: 0.3058 - accuracy: 0.8796 - val_loss: 0.2436 - val_accuracy: 0.9269\n",
      "Epoch 68/100\n",
      "32/32 [==============================] - 0s 767us/step - loss: 0.3045 - accuracy: 0.8806 - val_loss: 0.2412 - val_accuracy: 0.9269\n",
      "Epoch 69/100\n",
      "32/32 [==============================] - 0s 840us/step - loss: 0.3030 - accuracy: 0.8777 - val_loss: 0.2409 - val_accuracy: 0.9315\n",
      "Epoch 70/100\n",
      "32/32 [==============================] - 0s 785us/step - loss: 0.3024 - accuracy: 0.8826 - val_loss: 0.2384 - val_accuracy: 0.9224\n",
      "Epoch 71/100\n",
      "32/32 [==============================] - 0s 788us/step - loss: 0.3001 - accuracy: 0.8845 - val_loss: 0.2374 - val_accuracy: 0.9224\n",
      "Epoch 72/100\n",
      "32/32 [==============================] - 0s 824us/step - loss: 0.2986 - accuracy: 0.8836 - val_loss: 0.2343 - val_accuracy: 0.9224\n",
      "Epoch 73/100\n",
      "32/32 [==============================] - 0s 762us/step - loss: 0.2976 - accuracy: 0.8845 - val_loss: 0.2337 - val_accuracy: 0.9224\n",
      "Epoch 74/100\n",
      "32/32 [==============================] - 0s 822us/step - loss: 0.2965 - accuracy: 0.8806 - val_loss: 0.2326 - val_accuracy: 0.9224\n",
      "Epoch 75/100\n",
      "32/32 [==============================] - 0s 844us/step - loss: 0.2958 - accuracy: 0.8816 - val_loss: 0.2309 - val_accuracy: 0.9224\n",
      "Epoch 76/100\n",
      "32/32 [==============================] - 0s 750us/step - loss: 0.2938 - accuracy: 0.8826 - val_loss: 0.2284 - val_accuracy: 0.9315\n",
      "Epoch 77/100\n",
      "32/32 [==============================] - 0s 779us/step - loss: 0.2933 - accuracy: 0.8845 - val_loss: 0.2294 - val_accuracy: 0.9178\n",
      "Epoch 78/100\n",
      "32/32 [==============================] - 0s 841us/step - loss: 0.2923 - accuracy: 0.8865 - val_loss: 0.2273 - val_accuracy: 0.9224\n",
      "Epoch 79/100\n",
      "32/32 [==============================] - 0s 749us/step - loss: 0.2912 - accuracy: 0.8836 - val_loss: 0.2248 - val_accuracy: 0.9269\n",
      "Epoch 80/100\n",
      "32/32 [==============================] - 0s 804us/step - loss: 0.2898 - accuracy: 0.8826 - val_loss: 0.2237 - val_accuracy: 0.9315\n",
      "Epoch 81/100\n",
      "32/32 [==============================] - 0s 862us/step - loss: 0.2896 - accuracy: 0.8845 - val_loss: 0.2227 - val_accuracy: 0.9315\n",
      "Epoch 82/100\n",
      "32/32 [==============================] - 0s 763us/step - loss: 0.2885 - accuracy: 0.8836 - val_loss: 0.2229 - val_accuracy: 0.9224\n",
      "Epoch 83/100\n",
      "32/32 [==============================] - 0s 767us/step - loss: 0.2873 - accuracy: 0.8855 - val_loss: 0.2223 - val_accuracy: 0.9178\n",
      "Epoch 84/100\n",
      "32/32 [==============================] - 0s 828us/step - loss: 0.2863 - accuracy: 0.8875 - val_loss: 0.2218 - val_accuracy: 0.9132\n",
      "Epoch 85/100\n",
      "32/32 [==============================] - 0s 748us/step - loss: 0.2850 - accuracy: 0.8885 - val_loss: 0.2187 - val_accuracy: 0.9269\n",
      "Epoch 86/100\n",
      "32/32 [==============================] - 0s 823us/step - loss: 0.2843 - accuracy: 0.8875 - val_loss: 0.2194 - val_accuracy: 0.9224\n",
      "Epoch 87/100\n",
      "32/32 [==============================] - 0s 782us/step - loss: 0.2834 - accuracy: 0.8855 - val_loss: 0.2172 - val_accuracy: 0.9224\n",
      "Epoch 88/100\n",
      "32/32 [==============================] - 0s 770us/step - loss: 0.2825 - accuracy: 0.8865 - val_loss: 0.2157 - val_accuracy: 0.9406\n",
      "Epoch 89/100\n",
      "32/32 [==============================] - 0s 825us/step - loss: 0.2812 - accuracy: 0.8904 - val_loss: 0.2168 - val_accuracy: 0.9224\n",
      "Epoch 90/100\n",
      "32/32 [==============================] - 0s 777us/step - loss: 0.2810 - accuracy: 0.8875 - val_loss: 0.2144 - val_accuracy: 0.9269\n",
      "Epoch 91/100\n",
      "32/32 [==============================] - 0s 805us/step - loss: 0.2809 - accuracy: 0.8894 - val_loss: 0.2138 - val_accuracy: 0.9269\n",
      "Epoch 92/100\n",
      "32/32 [==============================] - 0s 814us/step - loss: 0.2772 - accuracy: 0.8924 - val_loss: 0.2169 - val_accuracy: 0.9178\n",
      "Epoch 93/100\n",
      "32/32 [==============================] - 0s 717us/step - loss: 0.2790 - accuracy: 0.8894 - val_loss: 0.2137 - val_accuracy: 0.9178\n",
      "Epoch 94/100\n",
      "32/32 [==============================] - 0s 824us/step - loss: 0.2778 - accuracy: 0.8894 - val_loss: 0.2119 - val_accuracy: 0.9178\n",
      "Epoch 95/100\n",
      "32/32 [==============================] - 0s 775us/step - loss: 0.2766 - accuracy: 0.8865 - val_loss: 0.2104 - val_accuracy: 0.9406\n",
      "Epoch 96/100\n",
      "32/32 [==============================] - 0s 722us/step - loss: 0.2764 - accuracy: 0.8894 - val_loss: 0.2110 - val_accuracy: 0.9178\n",
      "Epoch 97/100\n",
      "32/32 [==============================] - 0s 828us/step - loss: 0.2758 - accuracy: 0.8865 - val_loss: 0.2099 - val_accuracy: 0.9224\n",
      "Epoch 98/100\n",
      "32/32 [==============================] - 0s 717us/step - loss: 0.2748 - accuracy: 0.8875 - val_loss: 0.2087 - val_accuracy: 0.9315\n",
      "Epoch 99/100\n",
      "32/32 [==============================] - 0s 826us/step - loss: 0.2744 - accuracy: 0.8885 - val_loss: 0.2088 - val_accuracy: 0.9224\n",
      "Epoch 100/100\n",
      "32/32 [==============================] - 0s 890us/step - loss: 0.2736 - accuracy: 0.8885 - val_loss: 0.2078 - val_accuracy: 0.9224\n"
     ]
    }
   ],
   "source": [
    "model = Sequential([\n",
    "Dense(32, activation='relu', input_shape=(10,)),\n",
    "Dense(32, activation='relu'),\n",
    "Dense(1, activation='sigmoid'),])\n",
    "model.compile(optimizer='sgd',\n",
    "loss='binary_crossentropy',\n",
    "metrics=['accuracy'])\n",
    "hist = model.fit(X_train, Y_train,\n",
    "batch_size=32,\n",
    "epochs=100,\n",
    "validation_data=(X_val, Y_val))"
   ]
  },
  {
   "cell_type": "code",
   "execution_count": 19,
   "id": "2b394336",
   "metadata": {},
   "outputs": [
    {
     "name": "stdout",
     "output_type": "stream",
     "text": [
      "7/7 [==============================] - 0s 855us/step - loss: 0.3118 - accuracy: 0.8630\n"
     ]
    },
    {
     "data": {
      "text/plain": [
       "[0.31184032559394836, 0.8630136847496033]"
      ]
     },
     "execution_count": 19,
     "metadata": {},
     "output_type": "execute_result"
    }
   ],
   "source": [
    "model.evaluate(X_test, Y_test)"
   ]
  },
  {
   "cell_type": "code",
   "execution_count": 25,
   "id": "d6fb292e",
   "metadata": {},
   "outputs": [
    {
     "data": {
      "image/png": "[encoded data removed]",
      "text/plain": [
       "<Figure size 432x288 with 1 Axes>"
      ]
     },
     "metadata": {
      "needs_background": "light"
     },
     "output_type": "display_data"
    }
   ],
   "source": [
    "import matplotlib.pyplot as plt\n",
    "plt.plot(hist.history['loss'])\n",
    "plt.plot(hist.history['val_loss'])\n",
    "plt.title('Model loss')\n",
    "plt.ylabel('Loss')\n",
    "plt.xlabel('Epoch')\n",
    "plt.legend(['Train', 'Val'], loc='upper right')\n",
    "plt.show()"
   ]
  },
  {
   "cell_type": "code",
   "execution_count": 26,
   "id": "6cafbfd8",
   "metadata": {},
   "outputs": [
    {
     "data": {
      "image/png": "[encoded data removed]",
      "text/plain": [
       "<Figure size 432x288 with 1 Axes>"
      ]
     },
     "metadata": {
      "needs_background": "light"
     },
     "output_type": "display_data"
    }
   ],
   "source": [
    "plt.plot(hist.history['accuracy'])\n",
    "plt.plot(hist.history['val_accuracy'])\n",
    "plt.title('Model accuracy')\n",
    "plt.ylabel('Accuracy')\n",
    "plt.xlabel('Epoch')\n",
    "plt.legend(['Train', 'Val'], loc='lower right')\n",
    "plt.show()"
   ]
  },
  {
   "cell_type": "code",
   "execution_count": 27,
   "id": "59ba4fd1",
   "metadata": {},
   "outputs": [],
   "source": [
    "model = Sequential([\n",
    "Dense(32, activation='relu', input_shape=(10,)),\n",
    "Dense(32, activation='relu'),\n",
    "Dense(1, activation='sigmoid'),])\n",
    "model.compile(optimizer='sgd',\n",
    "loss='binary_crossentropy',\n",
    "metrics=['accuracy'])\n",
    "predicted_price=model.predict(X_test)"
   ]
  },
  {
   "cell_type": "code",
   "execution_count": 28,
   "id": "892244f4",
   "metadata": {},
   "outputs": [],
   "source": [
    "from sklearn.linear_model import LinearRegression"
   ]
  },
  {
   "cell_type": "code",
   "execution_count": 29,
   "id": "df507e38",
   "metadata": {},
   "outputs": [],
   "source": [
    "reg = LinearRegression().fit(X_test, Y_test)"
   ]
  },
  {
   "cell_type": "code",
   "execution_count": 31,
   "id": "9d262189",
   "metadata": {},
   "outputs": [
    {
     "data": {
      "text/plain": [
       "0.5330374566621174"
      ]
     },
     "execution_count": 31,
     "metadata": {},
     "output_type": "execute_result"
    }
   ],
   "source": [
    "reg.score(X_test, Y_test)"
   ]
  }
 ],
 "metadata": {
  "kernelspec": {
   "display_name": "Python 3",
   "language": "python",
   "name": "python3"
  },
  "language_info": {
   "codemirror_mode": {
    "name": "ipython",
    "version": 3
   },
   "file_extension": ".py",
   "mimetype": "text/x-python",
   "name": "python",
   "nbconvert_exporter": "python",
   "pygments_lexer": "ipython3",
   "version": "3.8.8"
  }
 },
 "nbformat": 4,
 "nbformat_minor": 5
}
